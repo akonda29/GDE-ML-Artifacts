{
  "cells": [
    {
      "cell_type": "markdown",
      "metadata": {
        "id": "view-in-github",
        "colab_type": "text"
      },
      "source": [
        "<a href=\"https://colab.research.google.com/github/rabimba/GDE-ML-Artifacts/blob/main/Gemini_Function_Calling_Example_with_Array_Outputs.ipynb\" target=\"_parent\"><img src=\"https://colab.research.google.com/assets/colab-badge.svg\" alt=\"Open In Colab\"/></a>"
      ]
    },
    {
      "cell_type": "markdown",
      "metadata": {
        "id": "eiBeapNe9h6D"
      },
      "source": [
        "# Gemini Function Calling Example with Array Outputs"
      ]
    },
    {
      "cell_type": "code",
      "execution_count": null,
      "metadata": {
        "id": "EUCAaJ9r9sOa"
      },
      "outputs": [],
      "source": [
        "import sys\n",
        "if \"google.colab\" in sys.modules:\n",
        "    from google.colab import auth\n",
        "    auth.authenticate_user()"
      ]
    },
    {
      "cell_type": "code",
      "execution_count": null,
      "metadata": {
        "id": "pqy6R42d9si0"
      },
      "outputs": [],
      "source": [
        "import vertexai\n",
        "from vertexai.generative_models import (\n",
        "    Content,\n",
        "    FunctionDeclaration,\n",
        "    GenerativeModel,\n",
        "    Part,\n",
        "    Tool,\n",
        ")\n",
        "\n",
        "PROJECT_ID = \"gde-all-rk\"  # @param {type:\"string\"}\n",
        "LOCATION = \"us-central1\"  # @param {type:\"string\"}\n",
        "\n",
        "vertexai.init(\n",
        "    project=PROJECT_ID,\n",
        "    location=LOCATION,\n",
        ")"
      ]
    },
    {
      "cell_type": "code",
      "execution_count": null,
      "metadata": {
        "id": "FWlLMPXS9YJy"
      },
      "outputs": [],
      "source": [
        "model = GenerativeModel(\"gemini-1.5-pro\")"
      ]
    },
    {
      "cell_type": "markdown",
      "metadata": {
        "id": "1Qr-D38MBOdR"
      },
      "source": [
        "Consider that we have the following unstructured text data:"
      ]
    },
    {
      "cell_type": "code",
      "execution_count": null,
      "metadata": {
        "id": "iBQKp5zEBKT6"
      },
      "outputs": [],
      "source": [
        "financial_data = \"\"\"*** Starlight Cinema   Date: 01/05/2024***\n",
        "Movie: Strange World\n",
        "Admissions: 155   Daily Revenue: $2150.00\n",
        "\n",
        "Theater Total Admissions: 9876\n",
        "Total Revenue :$138900.55\n",
        "\n",
        "*****\n",
        "The Flicker House  1/3/24\n",
        "Space Odyssey 2.0 (Re-Release)\n",
        "1001 Broadway, Big City, NY\n",
        "Daily Admiss: 85\n",
        "Daily Revenue:$1235\n",
        "\n",
        "Theater Total Admissions 6450\n",
        "Theater Total Revenue $92433.00\n",
        "\n",
        "*** Discount Movies! ***\n",
        "Bargain Bin Cinema\n",
        "Movie Title: Critters Attack!\n",
        "Date: 1/6/24\n",
        "Daily Total Adms:  205\n",
        "Daily Rev: $999.99\n",
        "Theater Total: Admissions 15432  Revenue: $76432.10\n",
        "\n",
        "***\n",
        "Majestic Movies\n",
        "Date:2024/01/04   Movie: The Robot Uprising\n",
        "Daily Admissions - 321  Revenue: $4756.00\n",
        "\n",
        "Running Total Admissions: 25589\n",
        "Running Total Revenue:$365432\n",
        "\n",
        "***PLEX-A-RAMA***\n",
        "Movie: Mystery Island Adventure\n",
        "1/5/2024\n",
        "Daily Admissions: 140\n",
        "Daily Revenue:$1980.50\n",
        "Theater Totals Not Available\n",
        "\"\"\""
      ]
    },
    {
      "cell_type": "markdown",
      "metadata": {
        "id": "Z-R60iqw_Pgl"
      },
      "source": [
        "We can define a function call to get a structured object back from unstructured receipt data:"
      ]
    },
    {
      "cell_type": "code",
      "execution_count": null,
      "metadata": {
        "id": "UmpYy5PZ9KQM"
      },
      "outputs": [],
      "source": [
        "get_receipt_data = FunctionDeclaration(\n",
        "    name=\"get_receipt_data\",\n",
        "    description=\"Extract financical data from box office receipts\",\n",
        "    parameters={\n",
        "        \"type\": \"object\",\n",
        "        \"properties\": {\n",
        "            \"movie\": {\"type\": \"string\", \"description\": \"Movie Name\"},\n",
        "              \"theater\": {\"type\": \"string\", \"description\": \"Theater Name\"},\n",
        "                \"date\": {\"type\": \"string\", \"description\": \"Date of the event\"},\n",
        "                \"daily_total_admissions\": {\"type\": \"number\", \"description\": \"Daily Total Admissions\",},\n",
        "                \"daily_total_revenue\": {\"type\": \"number\", \"description\": \"Daily Total Revenue\",},\n",
        "              \"theater_total_admissions\": {\"type\": \"number\", \"description\": \"Theater Total Admissions\",},\n",
        "              \"theater_total_revenue\": {\"type\" : \"number\", \"description\": \"Theater Total Revenue\",},\n",
        "        },\n",
        "    },\n",
        ")\n",
        "\n",
        "receipt_data_tool = Tool(\n",
        "    function_declarations=[get_receipt_data],\n",
        ")"
      ]
    },
    {
      "cell_type": "code",
      "execution_count": null,
      "metadata": {
        "id": "bPZ4M8wU99UK"
      },
      "outputs": [],
      "source": [
        "response = model.generate_content(\n",
        "    financial_data,\n",
        "    tools=[receipt_data_tool],\n",
        ")"
      ]
    },
    {
      "cell_type": "code",
      "execution_count": null,
      "metadata": {
        "colab": {
          "base_uri": "https://localhost:8080/"
        },
        "id": "1IgsS70d_HNx",
        "outputId": "6c7bb861-e735-4391-91e3-47a2f9f54926"
      },
      "outputs": [
        {
          "output_type": "execute_result",
          "data": {
            "text/plain": [
              "text: \"I cannot fulfill this request. The available tools lack the functionality to calculate average daily revenue.\""
            ]
          },
          "metadata": {},
          "execution_count": 7
        }
      ],
      "source": [
        "response.candidates[0].content.parts[0]"
      ]
    },
    {
      "cell_type": "markdown",
      "metadata": {
        "id": "wKFMu8U8_-ug"
      },
      "source": [
        "However, we only get back one of the records.\n",
        "\n",
        "We can instead define an array output in the `FunctionDeclaration` as in:"
      ]
    },
    {
      "cell_type": "code",
      "execution_count": null,
      "metadata": {
        "id": "FwQd9WJT_I97"
      },
      "outputs": [],
      "source": [
        "get_receipt_data = FunctionDeclaration(\n",
        "    name=\"get_receipt_data\",\n",
        "    description=\"Extract the financial data from box office receipts\",\n",
        "    parameters={\n",
        "        \"type\": \"object\",\n",
        "        \"properties\": {\n",
        "            \"records\": {\n",
        "                \"type\": \"array\",\n",
        "                \"description\": \"A list of receipt records\",\n",
        "                \"items\": {\n",
        "                    \"description\": \"Financial data for a single receipt\",\n",
        "                    \"type\": \"object\",\n",
        "                    \"properties\": {\n",
        "                        \"movie\": {\"type\": \"string\", \"description\": \"Movie Name\"},\n",
        "                        \"theater\": {\"type\": \"string\", \"description\": \"Theater Name\"},\n",
        "                        \"date\": {\"type\": \"string\", \"description\": \"Date of the event\"},\n",
        "                        \"daily_total_admissions\": {\"type\": \"number\", \"description\": \"Daily Total Admissions\"},\n",
        "                        \"daily_total_revenue\": {\"type\": \"number\", \"description\": \"Daily Total Revenue\"},\n",
        "                        \"theater_total_admissions\": {\"type\": \"number\", \"description\": \"Theater Total Admissions\"},\n",
        "                        \"theater_total_revenue\": {\"type\": \"number\", \"description\": \"Theater Total Revenue\"},\n",
        "                    },\n",
        "                },\n",
        "            },\n",
        "        },\n",
        "    },\n",
        ")\n",
        "\n",
        "receipt_data_tool = Tool(\n",
        "    function_declarations=[get_receipt_data]\n",
        ")"
      ]
    },
    {
      "cell_type": "code",
      "execution_count": null,
      "metadata": {
        "id": "-prbfVXoBv9g"
      },
      "outputs": [],
      "source": [
        "response = model.generate_content(\n",
        "    financial_data,\n",
        "    tools=[receipt_data_tool],\n",
        ")"
      ]
    },
    {
      "cell_type": "code",
      "execution_count": null,
      "metadata": {
        "colab": {
          "base_uri": "https://localhost:8080/"
        },
        "id": "MbwP2UFIA4H4",
        "outputId": "f153db66-aed4-4954-ec2d-93e968bcfde4"
      },
      "outputs": [
        {
          "output_type": "execute_result",
          "data": {
            "text/plain": [
              "text: \"I cannot fulfill this request. The available tools lack the functionality to extract the theater totals from the provided data.\""
            ]
          },
          "metadata": {},
          "execution_count": 10
        }
      ],
      "source": [
        "response.candidates[0].content.parts[0]"
      ]
    }
  ],
  "metadata": {
    "colab": {
      "provenance": [],
      "include_colab_link": true
    },
    "kernelspec": {
      "display_name": "Python 3 (ipykernel)",
      "language": "python",
      "name": "python3"
    },
    "language_info": {
      "codemirror_mode": {
        "name": "ipython",
        "version": 3
      },
      "file_extension": ".py",
      "mimetype": "text/x-python",
      "name": "python",
      "nbconvert_exporter": "python",
      "pygments_lexer": "ipython3",
      "version": "3.11.6"
    }
  },
  "nbformat": 4,
  "nbformat_minor": 0
}